{
 "cells": [
  {
   "cell_type": "code",
   "execution_count": null,
   "metadata": {},
   "outputs": [],
   "source": [
    "from bt_gen_model import createSchema, createDataModel\n",
    "import os"
   ]
  },
  {
   "cell_type": "markdown",
   "metadata": {},
   "source": [
    "Schema Generation\n",
    "* `createSchema` will recurse through a search path and find all JSON files with a specific prefix and exclude those with a rejection substring. In this example, we parse all the BattleTech JSONs in RogueTech, and exclude merged JSONS."
   ]
  },
  {
   "cell_type": "code",
   "execution_count": null,
   "metadata": {},
   "outputs": [],
   "source": [
    "# Directory to search for schemas. Define the json prefix and rejection strings prior to use.\n",
    "search_dir = 'E:/Game/RtlCache/RtCache//**/*.json'\n",
    "\n",
    "# Data model generation also uses this folder\n",
    "schema_folder=\"schema/\"\n",
    "\n",
    "def createSchemas(search_dir, out_dir=\"schema/\"):\n",
    "    createSchema(search_dir, \"mechdef_\", \"Merge\", out_dir, False)\n",
    "    #createSchema(search_dir, \"Ammo_AmmunitionBox_\", \"Merge\", out_dir, False)\n",
    "    #createSchema(search_dir, \"chassisdef_\", \"Merge\", out_dir, False)\n",
    "    #createSchema(search_dir, \"hardpointdatadef_\", \"Merge\", out_dir, False)\n",
    "    #createSchema(search_dir, \"vehicledef_\", \"Merge\", out_dir, False)\n",
    "    #createSchema(search_dir, \"Weapon_\", \"Merge\", out_dir, False)\n",
    "\n",
    "createSchemas(search_dir, schema_folder)"
   ]
  },
  {
   "cell_type": "markdown",
   "metadata": {},
   "source": [
    "Datamodel Creation\n",
    "* `createDatamodel` will generate a `msgspec` struct from the a JSON schema. This resulting python file enables access to JSON data in python through nested data structures. "
   ]
  },
  {
   "cell_type": "code",
   "execution_count": null,
   "metadata": {},
   "outputs": [],
   "source": [
    "# Directory to create datamodels\n",
    "datamodel_folder=\"datamodel/\"\n",
    "\n",
    "def createDataModels(path, folder=\"datamodel/\"):\n",
    "    for filename in os.listdir(path):\n",
    "        f = os.path.join(path, filename)\n",
    "        if os.path.isfile(f):\n",
    "            createDataModel(f, filename, folder)\n",
    "\n",
    "createDataModels(schema_folder) "
   ]
  },
  {
   "cell_type": "markdown",
   "metadata": {},
   "source": [
    "Data Extraction\n",
    "* Now that a datamodel is created, msgspec can be used to parse JSON files matching a specified schema. In this case, we parse all `mechdefs` using the `mechdef` data model and extract them to a dataframe. This dataframe can be dumped to CSV or used for data analysis."
   ]
  },
  {
   "cell_type": "code",
   "execution_count": null,
   "metadata": {},
   "outputs": [],
   "source": [
    "from datamodel import mechdef, Weapon\n",
    "from bt_gen_model import parseModels, extractDataframe\n",
    "\n",
    "import numpy as np\n",
    "import matplotlib.pyplot as plt\n",
    "from pandas.io.json import json_normalize\n",
    "\n",
    "mechdef.Model\n",
    "\n",
    "def run(path):\n",
    "    os.makedirs(os.path.dirname(\"csv/\"), exist_ok=True)\n",
    "    mechs = parseModels(path, \"mechdef_\", \"Merge\", mechdef.Model)\n",
    "    mech_df = extractDataframe(mechs)\n",
    "    mech_df.to_csv(\"mech.csv\")\n",
    "    \n",
    "    weapons = parseModels(path, \"Weapon_\", \"Merge\", Weapon.Model)\n",
    "    weapon_df= extractDataframe(weapons)\n",
    "    weapon_df.to_csv(\"weapon.csv\")\n",
    "    return mech_df, weapon_df\n",
    "\n",
    "mech_df, weapon_df = run(search_dir)"
   ]
  },
  {
   "cell_type": "markdown",
   "metadata": {},
   "source": [
    "Data View\n",
    "* Pandas can be used to view the dataframe and analyze the data. Add additional fields and analytics columns as necessary."
   ]
  },
  {
   "cell_type": "code",
   "execution_count": null,
   "metadata": {},
   "outputs": [],
   "source": [
    "from pandasgui import show as showpd\n",
    "    \n",
    "showpd(mech_df)"
   ]
  }
 ],
 "metadata": {
  "kernelspec": {
   "display_name": "Python 3",
   "language": "python",
   "name": "python3"
  },
  "language_info": {
   "codemirror_mode": {
    "name": "ipython",
    "version": 3
   },
   "file_extension": ".py",
   "mimetype": "text/x-python",
   "name": "python",
   "nbconvert_exporter": "python",
   "pygments_lexer": "ipython3",
   "version": "3.11.5"
  }
 },
 "nbformat": 4,
 "nbformat_minor": 2
}
